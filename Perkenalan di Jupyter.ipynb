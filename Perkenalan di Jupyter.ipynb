{
 "cells": [
  {
   "cell_type": "code",
   "execution_count": 2,
   "id": "fec1f46d-3707-4f51-8661-a377c8c1c0c9",
   "metadata": {},
   "outputs": [
    {
     "name": "stdout",
     "output_type": "stream",
     "text": [
      "hello world :)\n"
     ]
    }
   ],
   "source": [
    "print(\"hello world :)\")"
   ]
  },
  {
   "cell_type": "code",
   "execution_count": 3,
   "id": "a9fc3ed1-292f-4e1b-8338-840fb5fafc99",
   "metadata": {},
   "outputs": [
    {
     "name": "stdout",
     "output_type": "stream",
     "text": [
      "Salam kenal teman-teman :)\n"
     ]
    }
   ],
   "source": [
    "#|======================================|\n",
    "#                                       |\n",
    "#           Program halo.py             |\n",
    "#    by ichsanhibatullah@mail.ugm.ac.id |\n",
    "#                                       |\n",
    "#|======================================|\n",
    "#  Nama:Ichsan Hibatullah\n",
    "#  NIM :20/455416/PA/19631\n",
    "print(\"Salam kenal teman-teman :)\")"
   ]
  }
 ],
 "metadata": {
  "kernelspec": {
   "display_name": "Python 3",
   "language": "python",
   "name": "python3"
  },
  "language_info": {
   "codemirror_mode": {
    "name": "ipython",
    "version": 3
   },
   "file_extension": ".py",
   "mimetype": "text/x-python",
   "name": "python",
   "nbconvert_exporter": "python",
   "pygments_lexer": "ipython3",
   "version": "3.9.1"
  }
 },
 "nbformat": 4,
 "nbformat_minor": 5
}
