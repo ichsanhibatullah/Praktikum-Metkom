{
 "cells": [
  {
   "cell_type": "markdown",
   "metadata": {},
   "source": [
    "<!DOCTYPE html>\n",
    "<html>\n",
    "<head>\n",
    "<title>Jenis Font</title>\n",
    "</head>\n",
    "<body>\n",
    "\n",
    "<br/> \n",
    "<hr align = “center”, color = “black”, size = “6px”, width = “100%”>\n",
    "<b><font face=\"Times New Roman\"><font size=\"1\"><h1 style=\"text-align:center;\">KEMENTRIAN RISET TEKNOLOGI DAN PENDIDIKAN TINGGI</font></h1>\n",
    "<b><font face=\"Times New Roman\"><font size=\"1\"><h1 style=\"text-align:center;\">PROGRAM STUDI GEOFISIKA JURUSAN FISIKA</font></h1>\n",
    "<b><font face=\"Times New Roman\"><font size=\"1\"><h1 style=\"text-align:center;\">FAKULTAS MATEMATIKA DAN ILMU PENGETAHUAN ALAM</font></h1>\n",
    "<b><font face=\"Times New Roman\"><font size=\"2\"><h1 style=\"text-align:center;\">UNIVERSITAS GADJAH MADA</font></h1>\n",
    "    \n",
    "<hr align = “center”, color = “black”, size = “6px”, width = “100%”>\n",
    "\n",
    "\n",
    "<br/>\n",
    "<b><font face=\"Times New Roman\"><font size=\"1\"><h1 style=\"text-align:center;\">LAPORAN PRAKTIKUM METODE KOMPUTASI</font></h1>\n",
    "<b><font face=\"Times New Roman\"><font size=\"1\"><h1 style=\"text-align:center;\">ACARA 9. PYTHON SCRIPT CODE FOR APPLIED GEOPHYSICS 4</font></h1>\n",
    "    \n",
    "&emsp;\n",
    "    &emsp;\n",
    "<img src=\"logo.gif\" width=\"280\" height=\"280\" align=\"justify\" />\n",
    "&emsp;\n",
    "    &emsp;\n",
    "    \n",
    "<br/>\n",
    "<b><font face=\"Times New Roman\"><font size=\"1\"><h1 style=\"text-align:center;\">DISUSUN OLEH:</font></h1>\n",
    "<b><font face=\"Times New Roman\"><font size=\"0.8\"><h1 style=\"text-align:center;\">ICHSAN HIBATULLAH</font></h1>\n",
    "<b><font face=\"Times New Roman\"><font size=\"1\"><h1 style=\"text-align:center;\">20/455416/PA/19631</font></h1>\n",
    "<br/>\n",
    "<br/>\n",
    "<br/>\n",
    "<br/>\n",
    "<br/>\n",
    "<b><font face=\"Times New Roman\"><font size=\"1\"><h1 style=\"text-align:center;\">ASISTEN ACARA:</font></h1>    <b><font face=\"Times New Roman\"><font size=\"1\"><h1 style=\"text-align:center;\">1. FELICIA PENNY SEPTIARA</font></h1>\n",
    "<b><font face=\"Times New Roman\"><font size=\"1\"><h1 style=\"text-align:center;\">2. SAEFULL ALAM WISNUTAMA</font></h1>\n",
    "<br/>\n",
    "<hr align = “center”, color = “black”, size = “6px”, width = “100%”>\n",
    "<b><font face=\"Times New Roman\"><font size=\"1\"><h1 style=\"text-align:center;\">YOGYAKARTA</font></h1>\n",
    "<b><font face=\"Times New Roman\"><font size=\"1\"><h1 style=\"text-align:center;\">MEI</font></h1>\n",
    "<b><font face=\"Times New Roman\"><font size=\"1\"><h1 style=\"text-align:center;\">2021</font></h1>\n",
    "\n",
    "<hr align = “center”, color = “black”, size = “6px”, width = “100%”>\n",
    "    \n",
    "</body>\n",
    "</html>\n",
    "</div>"
   ]
  },
  {
   "cell_type": "markdown",
   "metadata": {},
   "source": [
    "<p style=\"text-align: center;\">Tugas Metode Komputasi : PY05</p>"
   ]
  },
  {
   "cell_type": "markdown",
   "metadata": {},
   "source": [
    "<p style=\"text-align: center;\">Pengolahan Data Gravitasi </p>"
   ]
  },
  {
   "cell_type": "markdown",
   "metadata": {},
   "source": [
    "### Bagian 1 : Script Code Praktikum 28 Mei 2021"
   ]
  },
  {
   "cell_type": "markdown",
   "metadata": {},
   "source": [
    "#### Kunci - kunci perintah dalam pemrograman"
   ]
  },
  {
   "cell_type": "markdown",
   "metadata": {},
   "source": [
    "###### 1. Looping dan Keputusan Logika"
   ]
  },
  {
   "cell_type": "markdown",
   "metadata": {},
   "source": [
    "<div style=\"text-align: justify\"> Memahami bagaimana mempelajari looping yang didasarkan pada logika tertentu. Proses ini banyak dilakukan di geofiska terutama pada permodelan. Dasar fisika sangat diperlukan dalam memahami permodelan di pemrograman. Sebagai contoh dalam fisika klasik, interaksi gravitasi. Penggunaan fungsi for untuk melakukan perulangan banyaknya / jumlah data yang akan diukur dengan variabel tertentu (fisis) dan sekumpulan informasi. </div>"
   ]
  },
  {
   "cell_type": "markdown",
   "metadata": {},
   "source": [
    "Contoh proses perulangan dengan menggunakan perintah **for** :"
   ]
  },
  {
   "cell_type": "code",
   "execution_count": 49,
   "metadata": {
    "scrolled": true
   },
   "outputs": [
    {
     "name": "stdout",
     "output_type": "stream",
     "text": [
      "Apel\n",
      "Jeruk\n",
      "Manggis\n",
      "Rambutan\n",
      "Durian\n"
     ]
    }
   ],
   "source": [
    "Nama_Buah = ['Apel', 'Jeruk', 'Manggis', 'Rambutan', 'Durian'] # Pendefinisian variabel berformat array\n",
    "for variabel in Nama_Buah:       # Fungsi for\n",
    "    #do sesuatu dengan variabel \n",
    "    print (variabel)             # Output"
   ]
  },
  {
   "cell_type": "code",
   "execution_count": 50,
   "metadata": {
    "scrolled": false
   },
   "outputs": [
    {
     "name": "stdout",
     "output_type": "stream",
     "text": [
      "1\n",
      "2\n",
      "3\n",
      "4\n",
      "5\n",
      "6\n",
      "7\n"
     ]
    }
   ],
   "source": [
    "angka = [1,2,3,4,5,6,7] # Pendefinisian variabel berformat array\n",
    "for nilai in angka:     # Fungsi for\n",
    "    print(nilai)        # Output"
   ]
  },
  {
   "cell_type": "markdown",
   "metadata": {},
   "source": [
    "Penggunaan fungsi **range** (fungsi built-in python) :"
   ]
  },
  {
   "cell_type": "code",
   "execution_count": 51,
   "metadata": {
    "scrolled": true
   },
   "outputs": [
    {
     "data": {
      "text/plain": [
       "[2, 3, 4]"
      ]
     },
     "execution_count": 51,
     "metadata": {},
     "output_type": "execute_result"
    }
   ],
   "source": [
    "list(range(2,5))     # List(range(batas bawah, batas atas))"
   ]
  },
  {
   "cell_type": "code",
   "execution_count": 52,
   "metadata": {},
   "outputs": [
    {
     "data": {
      "text/plain": [
       "[3, 5, 7, 9]"
      ]
     },
     "execution_count": 52,
     "metadata": {},
     "output_type": "execute_result"
    }
   ],
   "source": [
    "list(range(3,10,2))  # List(range(batas bawah, batas atas, interval))"
   ]
  },
  {
   "cell_type": "code",
   "execution_count": 53,
   "metadata": {},
   "outputs": [
    {
     "name": "stdout",
     "output_type": "stream",
     "text": [
      "0\n",
      "1\n",
      "2\n"
     ]
    }
   ],
   "source": [
    "for i in range(3):   # Iterasi dimulai dari 0 sampai iterasi ke-2\n",
    "    print(i)         # Output iterasi"
   ]
  },
  {
   "cell_type": "code",
   "execution_count": 54,
   "metadata": {
    "scrolled": true
   },
   "outputs": [
    {
     "name": "stdout",
     "output_type": "stream",
     "text": [
      "1\n",
      "2\n",
      "3\n",
      "4\n",
      "5\n",
      "6\n"
     ]
    }
   ],
   "source": [
    "for i in range(1,7): # Iterasi dimulai dari 1 sampai iterasi ke-6\n",
    "    print(i)         # Output iterasi"
   ]
  },
  {
   "cell_type": "markdown",
   "metadata": {},
   "source": [
    "###### 2. Membuat Fungsi"
   ]
  },
  {
   "cell_type": "markdown",
   "metadata": {},
   "source": [
    "<div style=\"text-align: justify\"> Pendefinisian sebuah fungsi pada python dibuat menggunakan kata kunci def yang diikuti dengan nama  fungsinya, lalu  diikuti  dengan  nama  parameter - parameter  (variable)  fungsi  yang dibatasi dengan tanda kurung. Perintah - perintah yang akan dieksekusi harus ditulis menggunakan indentasi (ditulis menjorok ke kanan sejauh minimal 4 spasi). Pada Python, indentasi merupakan sesuatu yang sangat penting, dan akan mengakibatkan error apabila salah penggunaannya atau tidak menggunakan indentasi. </div>"
   ]
  },
  {
   "cell_type": "code",
   "execution_count": 55,
   "metadata": {},
   "outputs": [],
   "source": [
    "# Contoh fungsi untuk mengkonversi dari skala temperature Fahrenheit ke skala Kelvin\n",
    "def fahrenheit_ke_kelvin(suhu):            \n",
    "# Pendefinsian / pernyataan fungsi fahrenheit_ke_kelvin menggunakan keyword def dengan parameter suhu \n",
    "    return ((suhu - 32) * (5/9)) + 273.15  # Mengembalikan nilai yang tersimpan di dalam variabel kepada kode yang akan memanggil function tersebut"
   ]
  },
  {
   "cell_type": "code",
   "execution_count": 56,
   "metadata": {
    "scrolled": true
   },
   "outputs": [
    {
     "data": {
      "text/plain": [
       "288.15"
      ]
     },
     "execution_count": 56,
     "metadata": {},
     "output_type": "execute_result"
    }
   ],
   "source": [
    "fahrenheit_ke_kelvin(59) \n",
    "# Pemanggilan fungsi fahrenheit_ke_kelvin, mengeksekusi perintah yang ada di dalamnya dan mencetak\n",
    " # nilai dari hasil perhitungan"
   ]
  },
  {
   "cell_type": "markdown",
   "metadata": {},
   "source": [
    "Implementasi dari persamaan gaya tarik gravitasi pada sembarang titik di luar benda anomali yang berupa bola pejal menjadi sebuah **fungsi** dalam Python :"
   ]
  },
  {
   "cell_type": "code",
   "execution_count": 57,
   "metadata": {
    "scrolled": true
   },
   "outputs": [
    {
     "data": {
      "image/png": "[encoded data removed]",
      "text/plain": [
       "<Figure size 432x288 with 1 Axes>"
      ]
     },
     "metadata": {
      "needs_background": "light"
     },
     "output_type": "display_data"
    }
   ],
   "source": [
    "'''---Program Menghitung Gaya Tarik Gravitasi---'''\n",
    "'''          Benda Berbentuk Bola Pejal         '''\n",
    "\n",
    "gamma  = 6.6E-11     # Nilai konstanta gamma (gravitasi universal)\n",
    "si2mg  = 1.0E5       # Konversi satuan SI ke miligal (mGal), 1 Gal = 1 cm/s^2 (dalam Geofisika)\n",
    "pi     = 3.14159265  # Nilai pi\n",
    "km2m   = 1.E3        # Konversi kilometer ke meter\n",
    "ierror = 0           # Indeks untuk kesalahan (bila ada input yang tidak sesuai), tidak terlalu diperlukan\n",
    "# Dalam perhitungan komputer menghindari pembagian dengan angka 0, karena akan menghasilkan error (undefined)\n",
    "\n",
    "import math                      # Mengimport modul math, untuk perhitungan yang kompleks (akar, pangkat, dll.)\n",
    "import matplotlib.pyplot as plt  # Mengimport fungsi pyplot dari modul matplotlib, untuk menampilkan gambar\n",
    "\n",
    "def bola(xq,yq,zq,a,rho,xp,yp,zp):  # Pendefinisian fungsi bola yang diberi dengan beberapa parameter\n",
    "    ''' Titik pengamatan terlihat pada koordinat (xq,yq,zq), sementara\n",
    "    pusat bola adalah di (xp,yp,zp). Jari-jari bola adalah a dan densitas\n",
    "    adalah rho. Densitas satuannya kg/(m^3). Jarak dalam km.\n",
    "    '''\n",
    "    rx = xp-xq  # Jarak titik perhitungan x\n",
    "    ry = yp-yq  # Jarak titik perhitungan y\n",
    "    rz = zp-zq  # Jarak titik perhitungan z\n",
    "    r  = math.sqrt(math.pow(rx,2)+math.pow(ry,2)+math.pow(rz,2)) \n",
    "    # R adalah selisih jarak titik amat dan posisi pusat bolanya, dihindari nilainya 0\n",
    "    \n",
    "    if r == 0:  # Menghindari nilai 0, karena R merupakan penyebut, jika nilainya 0 hasilnya akan tak hingga / divergen (tidak punya nilai)\n",
    "        print(\"r-nya jelek\")  # Print output yang memberi tahu nilai R-nya tidak bagus (jika syarat nilai r = 0 terpenuhi)\n",
    "    r3 = math.pow(r,3)  # R ^ 3 karena dikalikan lagi dengan vektor satuan r\n",
    "    tmass = 4. * pi * rho * (math.pow(a,2)/3)  # Rumus menghitung massa bolanya\n",
    "    gx = -gamma * tmass * rx/r3  # Dimasukkan ke persamaan vektor arah x\n",
    "    gy = -gamma * tmass * ry/r3  # Persamaan vektor arah y\n",
    "    gz = -gamma * tmass * rz/r3  # Persamaan vektor arah z (vertikal)\n",
    "    # Pengonversian nilai satuan SI percepatan gravitasi ke mGal dan nilai satuan dari jarak (km ke m)\n",
    "    gx = gx * si2mg * km2m       # Pengonversian nilai satuan dari persamaan vektor arah x\n",
    "    gy = gy * si2mg * km2m       # Pengonversian nilai satuan dari persamaan vektor arah y\n",
    "    gz = gz * si2mg * km2m       # Pengonversian nilai satuan dari persamaan vektor arah z\n",
    "    return gx, gy, gz            # Outputnya ada 3 yaitu, nilai gx, gy, dan gz\n",
    "# Di geofisika, yang biasa digunakan adalah nilai gz-nya (pada arah vertikal), karena alat ukur di Geofisika UGM\n",
    " # saat ini baru bisa mengukur pada arah z, sekarang banyak dijual Gravity Meter yang mengukur 3 komponen arah (magnetik)\n",
    "\n",
    "#from mpl_toolkits import mplot3d \n",
    "from mpl_toolkits.mplot3d import Axes3D  # Modul untuk menampilkan / memvisualisasikan dalam bentuk 3D\n",
    "from matplotlib import cm  # Mengimport fungsi cm (colormap) dari modul matplotlib, untuk memetakan nilai data yang dinormalisasi ke warna RGBA\n",
    "from matplotlib.ticker import LinearLocator, FormatStrFormatter  # Mengimport fungsi LinearLocator yang digunakan untuk menentukan tick locations, fungsi FormatStrFormatter untuk menentukan nilai numerik di ticks pada sumbu yang diformat sebagai string  \n",
    "import numpy as np  # Mengimport modul numpy\n",
    "#import matplotlib.pyplot as plt\n",
    "\n",
    "# Generate titik pengamatan yang akan digunakan di g, Titik pengamatan tersebar di titik x,y\n",
    "x = np.linspace(-50,50,100)  # -50 sampai 50, ada 100 titik pada arah x\n",
    "y = np.linspace(-50,50,100)  # -50 sampai 50, ada 100 titik pada arah y\n",
    "X,Y = np.meshgrid(x,y)  # Fungsi dari np.meshgrid ini adalah untuk membuat grid yang teratur\n",
    "G=np.zeros((100,100))  # np.zeros = Ruang untuk menampung anomali g, Tempat menyimpan g-nya (ukuran file data yang disiapkan = 100 x 100)\n",
    "for i in range(100):  # i untuk x, dari 1 sampai 100\n",
    "    for j in range(100):  # j untuk y, dari 1 sampai 100\n",
    "        gx, gy, gz = bola(20,-20,5,1,2600,X[i,j],Y[i,j],0)\n",
    "        # Di outputkan gx, gy, gz, lalu dipanggil fungsi bola, kemudian ditambahkan koordinat dari pusat bolanya\n",
    "         # x = 20, y = -20, kedalaman 5 km, jari - jari bola 1 km, densitasnya 2600 kg/(m^3), koordinat X-nya di [i,j], koordinat Y-nya di [i,j], dan ketinggian titik amatnya 0\n",
    "        G[i,j]=gz  # Menyimpan komponen z (gz) di koordinat G di [i,j] (variabel G)\n",
    "        \n",
    "fig = plt.figure() # Membuat kanvas dari sebuah fungsi\n",
    "ax = plt.axes(projection='3d') # Membuat koordinat baru, mengatur sumbu, menggunakan fungsi axes yang diambil dari matplotlib\n",
    "surf = ax.plot_surface(X, Y, G, cmap=cm.coolwarm, linewidth=0, antialiased=False) # Memplotting permukaannya\n",
    "plt.show() # Menampilkan grafik"
   ]
  },
  {
   "cell_type": "markdown",
   "metadata": {},
   "source": [
    "### Bagian 2 : Buatlah variasi parameter gx, gy, gz = bola(20,-20,5,1,2600,X[i,j],Y[i,j],0) diharapkan variasi data antar praktikan berbeda"
   ]
  },
  {
   "cell_type": "code",
   "execution_count": 58,
   "metadata": {},
   "outputs": [],
   "source": [
    "'''---Program Menghitung Gaya Tarik Gravitasi---'''\n",
    "'''          Benda Berbentuk Bola Pejal         '''\n",
    "\n",
    "gamma  = 6.6E-11     # Nilai konstanta gamma (gravitasi universal)\n",
    "si2mg  = 1.0E5       # Konversi satuan SI ke miligal (mGal), 1 Gal = 1 cm/s^2 (dalam Geofisika)\n",
    "pi     = 3.14159265  # Nilai pi\n",
    "km2m   = 1.E3        # Konversi kilometer ke meter\n",
    "ierror = 0           # Indeks untuk kesalahan (bila ada input yang tidak sesuai), tidak terlalu diperlukan\n",
    "# Dalam perhitungan komputer menghindari pembagian dengan angka 0, karena akan menghasilkan error (undefined)\n",
    "import math                      # Mengimport modul math, untuk perhitungan yang kompleks (akar, pangkat, dll.)\n",
    "import matplotlib.pyplot as plt  # Mengimport fungsi pyplot dari modul matplotlib, untuk menampilkan gambar\n",
    "\n",
    "def bola(xq,yq,zq,a,rho,xp,yp,zp): # Pendefinisian fungsi bola yang diberi dengan beberapa parameter\n",
    "    ''' Titik pengamatan terlihat pada koordinat (xq,yq,zq), sementara\n",
    "    pusat bola adalah di (xp,yp,zp). Jari-jari bola adalah a dan densitas\n",
    "    adalah rho. Densitas satuannya kg/(m^3). Jarak dalam km.\n",
    "    '''\n",
    "    rx = xp-xq  # Jarak titik perhitungan x\n",
    "    ry = yp-yq  # Jarak titik perhitungan y\n",
    "    rz = zp-zq  # Jarak titik perhitungan z\n",
    "    r  = math.sqrt(math.pow(rx,2)+math.pow(ry,2)+math.pow(rz,2)) \n",
    "    # R adalah selisih jarak titik amat dan posisi pusat bolanya, dihindari nilainya 0\n",
    "    \n",
    "    if r == 0:  # Menghindari nilai 0, karena R merupakan penyebut, jika nilainya 0 hasilnya akan tak hingga / divergen (tidak punya nilai)\n",
    "        print(\"r-nya jelek\")  # Print output yang memberi tahu nilai R-nya tidak bagus (jika syarat nilai r = 0 terpenuhi)\n",
    "    r3 = math.pow(r,3)  # R ^ 3 karena dikalikan lagi dengan vektor satuan r\n",
    "    tmass = 4. * pi * rho * (math.pow(a,2)/3)  # Rumus menghitung massa bolanya\n",
    "    gx = -gamma * tmass * rx/r3  # Dimasukkan ke persamaan vektor arah x\n",
    "    gy = -gamma * tmass * ry/r3  # Persamaan vektor arah y\n",
    "    gz = -gamma * tmass * rz/r3  # Persamaan vektor arah z (vertikal)\n",
    "    # Pengonversian nilai satuan SI percepatan gravitasi ke mGal dan nilai satuan dari jarak (km ke m)\n",
    "    gx = gx * si2mg * km2m       # Pengonversian nilai satuan dari persamaan vektor arah x\n",
    "    gy = gy * si2mg * km2m       # Pengonversian nilai satuan dari persamaan vektor arah y\n",
    "    gz = gz * si2mg * km2m       # Pengonversian nilai satuan dari persamaan vektor arah z\n",
    "    return gx, gy, gz            # Outputnya ada 3 yaitu, nilai gx, gy, dan gz"
   ]
  },
  {
   "cell_type": "code",
   "execution_count": 59,
   "metadata": {
    "scrolled": false
   },
   "outputs": [
    {
     "data": {
      "image/png": "[encoded data removed]",
      "text/plain": [
       "<Figure size 432x288 with 1 Axes>"
      ]
     },
     "metadata": {
      "needs_background": "light"
     },
     "output_type": "display_data"
    }
   ],
   "source": [
    "#from mpl_toolkits import mplot3d \n",
    "from mpl_toolkits.mplot3d import Axes3D  # Modul untuk menampilkan / memvisualisasikan dalam bentuk 3D\n",
    "from matplotlib import cm  # Mengimport fungsi cm (colormap) dari modul matplotlib, untuk memetakan nilai data yang dinormalisasi ke warna RGBA\n",
    "from matplotlib.ticker import LinearLocator, FormatStrFormatter  # Mengimport fungsi LinearLocator yang digunakan untuk menentukan tick locations, fungsi FormatStrFormatter untuk menentukan nilai numerik di ticks pada sumbu yang diformat sebagai string  \n",
    "import numpy as np  # Mengimport modul numpy\n",
    "\n",
    "# Generate titik pengamatan yang akan digunakan di g, Titik pengamatan tersebar di titik x,y\n",
    "x = np.linspace(-50,50,100)  # -50 sampai 50, ada 100 titik pada arah x\n",
    "y = np.linspace(-50,50,100)  # -50 sampai 50, ada 100 titik pada arah y\n",
    "X,Y = np.meshgrid(x,y)  # Fungsi dari np.meshgrid ini adalah untuk membuat grid yang teratur\n",
    "G=np.zeros((100,100))  # np.zeros = Ruang untuk menampung anomali g, Tempat menyimpan g-nya (ukuran file data yang disiapkan = 100 x 100)\n",
    "for i in range(100):  # i untuk x, dari 1 sampai 100\n",
    "    for j in range(100):  # j untuk y, dari 1 sampai 100\n",
    "        gx, gy, gz = bola(0,-10,10,5,1500,X[i,j],Y[i,j],0)\n",
    "        # Di outputkan gx, gy, gz, lalu dipanggil fungsi bola, kemudian ditambahkan koordinat dari pusat bolanya\n",
    "         # x = 0, y = -10, kedalaman 10 km, jari - jari bola 5 km, densitasnya 1500 kg/(m^3), koordinat X-nya di [i,j], koordinat Y-nya di [i,j], dan ketinggian titik amatnya 0\n",
    "        G[i,j]=gz  # Menyimpan komponen z (gz) di koordinat G di [i,j] (variabel G)\n",
    "        \n",
    "fig = plt.figure() # Membuat kanvas dari sebuah fungsi\n",
    "ax = plt.axes(projection='3d') # Membuat koordinat baru, mengatur sumbu, menggunakan fungsi axes yang diambil dari matplotlib\n",
    "surf = ax.plot_surface(X, Y, G, cmap=cm.turbo, linewidth=0, antialiased=False) # Memplotting permukaannya\n",
    "plt.show() # Menampilkan grafik"
   ]
  },
  {
   "cell_type": "markdown",
   "metadata": {},
   "source": [
    "### Bagian 3 : Jawablah pertanyaan berikut ini"
   ]
  },
  {
   "cell_type": "markdown",
   "metadata": {},
   "source": [
    "###### Jelaskan mengapa indentasi sangat mempengaruhi script code, berikan contoh scriptnya."
   ]
  },
  {
   "cell_type": "markdown",
   "metadata": {},
   "source": [
    "<div style=\"text-align: justify\"> Indentasi adalah penulisan paragraf yang agak menjorok masuk ke dalam. Biasanya jika kita membaca majalah atau koran ataupun dalam menulis esai, kita akan mendapati ataupun menggunakan indentasi pada kalimat awal setiap paragrafnya. Indentasi dalam kode program hanya digunakan untuk mempermudah manusia dalam membacanya dan lebih enak ketika dilihat. Sederhananya, semua pernyataan dengan jarak (spasi) yang sama ke kanan, termasuk dalam blok yang sama sedangkan pernyataan yang termasuk dalam sebuah blok akan dimulai dari garis vertikal yang sama. Kompiler / interpreter umumnya tidak mengetahui urutan yang mereka perlukan untuk mengeksekusi pernyataan dalam sebuah kode. Karenanya, agar lebih mudah, kita membagi kode menjadi beberapa blok kode dan membuat indentasi. Indentasi membantu kompiler memahami urutan di mana setiap blok / pernyataan harus dieksekusi. </div> <br>\n",
    "\n",
    "<div style=\"text-align: justify\"> Pada bahasa pemrograman lain, umumnya indentasi adalah sesuatu yang tidak penting. Namun dalam python, indentasi adalah hal yang sangat penting, karena indentasi bertugas untuk mendefinisikan struktur blok kode program dan mempengaruhi hasil eksekusi. Indentasi Python adalah cara untuk memberi tahu interpreter Python bahwa serangkaian pernyataan milik blok kode tertentu. Python memanfaatkan indentasi untuk membuka / menutup suatu fungsi. Karena beberapa perintah seperti If Else memerlukan indentasi untuk memisahkan mana yang merupakan bagian If, dan mana yang merupakan bagian Else. Sehingga, melakukan kesalahan indentasi juga bisa berujung pada sebuah error. </div> <br>"
   ]
  },
  {
   "cell_type": "markdown",
   "metadata": {},
   "source": [
    "###### Contoh script code indentasi yang benar"
   ]
  },
  {
   "cell_type": "code",
   "execution_count": 27,
   "metadata": {},
   "outputs": [
    {
     "name": "stdout",
     "output_type": "stream",
     "text": [
      "Tugas\n",
      "Metode\n",
      "Komputasi\n"
     ]
    }
   ],
   "source": [
    "print('Tugas')\n",
    "print('Metode')\n",
    "print('Komputasi')"
   ]
  },
  {
   "cell_type": "code",
   "execution_count": 51,
   "metadata": {
    "scrolled": true
   },
   "outputs": [
    {
     "name": "stdout",
     "output_type": "stream",
     "text": [
      "[3, 4, 5, 6, 7, 8, 9, 10, 11, 12, 13, 14, 15, 16, 17, 18, 19, 20, 21, 22, 23, 24, 25, 26, 27, 28, 29]\n",
      "[0, 5, 10, 15, 20, 25, 30, 35, 40, 45]\n"
     ]
    }
   ],
   "source": [
    "print(list(range(3,30)))\n",
    "print(list(range(0,50,5)))"
   ]
  },
  {
   "cell_type": "markdown",
   "metadata": {},
   "source": [
    "###### Contoh script code indentasi yang salah"
   ]
  },
  {
   "cell_type": "code",
   "execution_count": 37,
   "metadata": {},
   "outputs": [
    {
     "ename": "IndentationError",
     "evalue": "unexpected indent (<ipython-input-37-3918b80fe4ee>, line 2)",
     "output_type": "error",
     "traceback": [
      "\u001b[1;36m  File \u001b[1;32m\"<ipython-input-37-3918b80fe4ee>\"\u001b[1;36m, line \u001b[1;32m2\u001b[0m\n\u001b[1;33m    print('Metode')\u001b[0m\n\u001b[1;37m    ^\u001b[0m\n\u001b[1;31mIndentationError\u001b[0m\u001b[1;31m:\u001b[0m unexpected indent\n"
     ]
    }
   ],
   "source": [
    "print('Tugas')\n",
    "    print('Metode')\n",
    "print('Komputasi')\n",
    "# Pada script ini terjadi error yang disebabkan oleh indentasi yang tidak pada tempatnya"
   ]
  },
  {
   "cell_type": "code",
   "execution_count": 50,
   "metadata": {},
   "outputs": [
    {
     "ename": "IndentationError",
     "evalue": "unexpected indent (<ipython-input-50-c54209ede612>, line 2)",
     "output_type": "error",
     "traceback": [
      "\u001b[1;36m  File \u001b[1;32m\"<ipython-input-50-c54209ede612>\"\u001b[1;36m, line \u001b[1;32m2\u001b[0m\n\u001b[1;33m    print(list(range(0,50,5)))\u001b[0m\n\u001b[1;37m    ^\u001b[0m\n\u001b[1;31mIndentationError\u001b[0m\u001b[1;31m:\u001b[0m unexpected indent\n"
     ]
    }
   ],
   "source": [
    "print(list(range(3,30)))\n",
    "    print(list(range(0,50,5)))\n",
    "# Pada script ini juga terjadi error yang disebabkan oleh indentasi yang tidak pada tempatnya"
   ]
  },
  {
   "cell_type": "markdown",
   "metadata": {},
   "source": [
    "###### Contoh script code indentasi yang benar"
   ]
  },
  {
   "cell_type": "code",
   "execution_count": 35,
   "metadata": {},
   "outputs": [
    {
     "name": "stdout",
     "output_type": "stream",
     "text": [
      "1\n",
      "2\n",
      "3\n",
      "4\n",
      "5\n"
     ]
    }
   ],
   "source": [
    "angka = [1,2,3,4,5]\n",
    "for nilai in angka:\n",
    "    print(nilai)"
   ]
  },
  {
   "cell_type": "code",
   "execution_count": 45,
   "metadata": {
    "scrolled": true
   },
   "outputs": [
    {
     "name": "stdout",
     "output_type": "stream",
     "text": [
      "Masukkan Bilangan : 10\n",
      "Bilangan tersebut adalah bilangan genap\n"
     ]
    }
   ],
   "source": [
    "n = input(\"Masukkan Bilangan : \")                       \n",
    "n = int(n)                                              \n",
    "if (n % 2 == 0):                                     \n",
    "    print (\"Bilangan tersebut adalah bilangan genap\")\n",
    "else :                                                  \n",
    "    print (\"Bilangan tersebut adalah bilangan ganjil\")"
   ]
  },
  {
   "cell_type": "markdown",
   "metadata": {},
   "source": [
    "###### Contoh script code indentasi yang salah"
   ]
  },
  {
   "cell_type": "code",
   "execution_count": 48,
   "metadata": {},
   "outputs": [
    {
     "ename": "IndentationError",
     "evalue": "expected an indented block (<ipython-input-48-d06384ddbf83>, line 3)",
     "output_type": "error",
     "traceback": [
      "\u001b[1;36m  File \u001b[1;32m\"<ipython-input-48-d06384ddbf83>\"\u001b[1;36m, line \u001b[1;32m3\u001b[0m\n\u001b[1;33m    print(nilai)\u001b[0m\n\u001b[1;37m    ^\u001b[0m\n\u001b[1;31mIndentationError\u001b[0m\u001b[1;31m:\u001b[0m expected an indented block\n"
     ]
    }
   ],
   "source": [
    "angka = [1,2,3,4,5]\n",
    "for nilai in angka:\n",
    "print(nilai)\n",
    "# Pada script ini terjadi error yang disebabkan oleh perintah for yang membutuhkan indentasi"
   ]
  },
  {
   "cell_type": "code",
   "execution_count": 49,
   "metadata": {},
   "outputs": [
    {
     "ename": "IndentationError",
     "evalue": "expected an indented block (<ipython-input-49-ae30d3b552f8>, line 4)",
     "output_type": "error",
     "traceback": [
      "\u001b[1;36m  File \u001b[1;32m\"<ipython-input-49-ae30d3b552f8>\"\u001b[1;36m, line \u001b[1;32m4\u001b[0m\n\u001b[1;33m    print (\"Bilangan tersebut adalah bilangan genap\")\u001b[0m\n\u001b[1;37m    ^\u001b[0m\n\u001b[1;31mIndentationError\u001b[0m\u001b[1;31m:\u001b[0m expected an indented block\n"
     ]
    }
   ],
   "source": [
    "n = input(\"Masukkan Bilangan : \")                       \n",
    "n = int(n)                                              \n",
    "if (n % 2 == 0):                                     \n",
    "print (\"Bilangan tersebut adalah bilangan genap\")\n",
    "else :                                                  \n",
    "print (\"Bilangan tersebut adalah bilangan ganjil\")\n",
    "# Pada script ini juga terjadi error yang disebabkan oleh dibutuhkannya indentasi\n",
    "# Perintah 'if' dan 'else' memerlukan indentasi untuk memisahkan mana bagian milik 'if' dan mana bagian 'else'"
   ]
  },
  {
   "cell_type": "markdown",
   "metadata": {},
   "source": [
    "<b> Referensi: </b> <br>\n",
    " &nbsp;\n",
    "<div style=\"text-align: justify\"> Admin. 2020. <i> What is Indentation in Python and Why is Python Indentation Important? </i> [Daring] Diakses pada https://www.faceprep.in/python/python-indentation/ [Diakses pada 29 Mei 2021] </div>\n",
    " &nbsp;\n",
    "<div style=\"text-align: justify\"> Huda, Nurul. 2020. <i> Python Dasar: Aturan Sintaks Python. </i> [Daring] Diakses pada https://jagongoding.com/python/dasar/aturan-sintaks-python/ [Diakses pada 29 Mei 2021] </div>\n",
    " &nbsp;\n",
    "<div style=\"text-align: justify\"> Herlambang, M. B. 2018. <i> Indentasi dalam Python. </i> [Daring] Diakses pada https://www.megabagus.id/indentasi-dalam-python/ [Diakses pada 29 Mei 2021] </div>"
   ]
  }
 ],
 "metadata": {
  "kernelspec": {
   "display_name": "Python 3",
   "language": "python",
   "name": "python3"
  },
  "language_info": {
   "codemirror_mode": {
    "name": "ipython",
    "version": 3
   },
   "file_extension": ".py",
   "mimetype": "text/x-python",
   "name": "python",
   "nbconvert_exporter": "python",
   "pygments_lexer": "ipython3",
   "version": "3.8.5"
  }
 },
 "nbformat": 4,
 "nbformat_minor": 5
}
